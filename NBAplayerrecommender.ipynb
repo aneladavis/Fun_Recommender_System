{
  "nbformat": 4,
  "nbformat_minor": 0,
  "metadata": {
    "colab": {
      "provenance": [],
      "authorship_tag": "ABX9TyPAAZbceYLrs0NBFuyrtsUn",
      "include_colab_link": true
    },
    "kernelspec": {
      "name": "python3",
      "display_name": "Python 3"
    },
    "language_info": {
      "name": "python"
    }
  },
  "cells": [
    {
      "cell_type": "markdown",
      "metadata": {
        "id": "view-in-github",
        "colab_type": "text"
      },
      "source": [
        "<a href=\"https://colab.research.google.com/github/aneladavis/Fun_Recommender_System/blob/main/NBAplayerrecommender.ipynb\" target=\"_parent\"><img src=\"https://colab.research.google.com/assets/colab-badge.svg\" alt=\"Open In Colab\"/></a>"
      ]
    },
    {
      "cell_type": "markdown",
      "source": [
        "# Data Importing and Exploration"
      ],
      "metadata": {
        "id": "DVw9L4951xSw"
      }
    },
    {
      "cell_type": "code",
      "execution_count": null,
      "metadata": {
        "id": "brqcOawodBeG"
      },
      "outputs": [],
      "source": [
        "import pandas as pd\n",
        "\n",
        "# read in the player file\n",
        "\n",
        "df_p = pd.read_csv('all_seasons.csv',error_bad_lines=False, low_memory=False, encoding='latin-1',sep=',')\n",
        "\n",
        "df_p.head()"
      ]
    },
    {
      "cell_type": "code",
      "source": [
        "# import college team data\n",
        "df_s = pd.read_csv('cbb21.csv',error_bad_lines=False, low_memory=False, encoding='latin-1',sep=',')\n",
        "df_s.head()"
      ],
      "metadata": {
        "id": "-f8AmRbNldrG"
      },
      "execution_count": null,
      "outputs": []
    },
    {
      "cell_type": "markdown",
      "source": [
        "# Cleaning and Condensing"
      ],
      "metadata": {
        "id": "xiSKW6GSh_RU"
      }
    },
    {
      "cell_type": "code",
      "source": [
        "# function used from Natassha Selvaraj tutorial (just changed name)\n",
        "def lower_entry(entry):\n",
        "  result = str(entry).lower()\n",
        "  return(result)\n"
      ],
      "metadata": {
        "id": "CcIFxPJHhYu6"
      },
      "execution_count": 3,
      "outputs": []
    },
    {
      "cell_type": "code",
      "source": [
        "# remove columns that aren't used (can change if desired) and lower the case of columns\n",
        "df_p = df_p.drop(['Unnamed: 0', 'team_abbreviation', 'player_height', 'player_weight', 'country', 'draft_year', 'pts', 'reb', 'ast', 'oreb_pct', 'dreb_pct', 'usg_pct', 'ts_pct', 'ast_pct', 'season'], axis=1)\n",
        "\n",
        "# lower text\n",
        "df_p['player_name'] = df_p['player_name'].apply(lower_entry)\n",
        "df_p['college'] = df_p['college'].apply(lower_entry)\n",
        "df_s['TEAM'] = df_s['TEAM'].apply(lower_entry)\n",
        "\n",
        "# replace numbering with player name\n",
        "df_p.set_index('player_name', inplace=True)\n",
        "df_p.head()"
      ],
      "metadata": {
        "id": "cYa4HxCcfpgv"
      },
      "execution_count": null,
      "outputs": []
    },
    {
      "cell_type": "code",
      "source": [
        "def remove_words(entry):\n",
        "  input = str(entry)\n",
        "  if (input.isnumeric()):\n",
        "    return entry\n",
        "  else:\n",
        "    return -1\n"
      ],
      "metadata": {
        "id": "J5XQA4Yhhiqn"
      },
      "execution_count": 5,
      "outputs": []
    },
    {
      "cell_type": "code",
      "source": [
        "# remove undrafted from draft round/number column\n",
        "df_p['draft_round'] = df_p['draft_round'].apply(remove_words)\n",
        "df_p['draft_number'] = df_p['draft_number'].apply(remove_words)"
      ],
      "metadata": {
        "id": "6xJetoyq2rVy"
      },
      "execution_count": 6,
      "outputs": []
    },
    {
      "cell_type": "code",
      "source": [
        "# check format\n",
        "df_p.head()\n",
        "# df_s.info()\n"
      ],
      "metadata": {
        "id": "eI9fej1hhug_"
      },
      "execution_count": null,
      "outputs": []
    },
    {
      "cell_type": "code",
      "source": [
        "# add school column to main data file\n",
        "empty_col = pd.DataFrame(['']*len(df_p))\n",
        "df_p.insert(len(list(df_p.columns)), 'c_rank', empty_col)"
      ],
      "metadata": {
        "id": "dR4pD-IKvKDC"
      },
      "execution_count": 8,
      "outputs": []
    },
    {
      "cell_type": "code",
      "source": [
        "# function to insert team rating\n",
        "def insert_barthag(entry):\n",
        "  input = str(entry)\n",
        "  # print(input)\n",
        "  if input in list(df_s['TEAM']):\n",
        "    x = list(df_s['TEAM']).index(input)\n",
        "    return df_s['BARTHAG'][x]\n",
        "  else:\n",
        "    return -1"
      ],
      "metadata": {
        "id": "YTHj2LaIpYOY"
      },
      "execution_count": 9,
      "outputs": []
    },
    {
      "cell_type": "code",
      "source": [
        "# replace old column and drop old college column\n",
        "df_p['c_rank'] = df_p['college'].apply(insert_barthag)\n",
        "df_p = df_p.drop('college', axis=1)"
      ],
      "metadata": {
        "id": "5fEnNFa6zOo1"
      },
      "execution_count": 10,
      "outputs": []
    },
    {
      "cell_type": "code",
      "source": [
        "# check point\n",
        "df_p.info()\n",
        "df_p.index"
      ],
      "metadata": {
        "id": "Ydrb6DQ745mo"
      },
      "execution_count": null,
      "outputs": []
    },
    {
      "cell_type": "code",
      "source": [
        "from sklearn.metrics.pairwise import euclidean_distances\n",
        "from sklearn.preprocessing import StandardScaler\n",
        "\n",
        "# data is scared differently for each entry, scale it to fit for analysis\n",
        "scale = StandardScaler().fit_transform(df_p)\n",
        "scale.shape"
      ],
      "metadata": {
        "id": "zDMPqwADAKd_"
      },
      "execution_count": null,
      "outputs": []
    },
    {
      "cell_type": "code",
      "source": [
        "# make new df\n",
        "df_p_scaled = pd.DataFrame(scale,index=df_p.index, columns=df_p.columns)"
      ],
      "metadata": {
        "id": "d1ARPZmm0aNC"
      },
      "execution_count": 13,
      "outputs": []
    },
    {
      "cell_type": "code",
      "source": [
        "# check random stuff if need be\n",
        "\n",
        "\n",
        "# df_p_scaled.head()\n",
        "# df_p_scaled.info()\n",
        "# scale.shape\n",
        "# df_p_scaled.values\n",
        "# df_p_scaled.head()\n",
        "df_p_scaled.loc['dennis rodman',:].values[0].reshape(6,1)\n"
      ],
      "metadata": {
        "id": "Ob3YfX84760h"
      },
      "execution_count": null,
      "outputs": []
    },
    {
      "cell_type": "code",
      "source": [
        "from sklearn.neighbors import NearestNeighbors\n",
        "from scipy.sparse import csr_matrix\n",
        "\n",
        "df_p_feature_matrix = csr_matrix(df_p_scaled.values)\n",
        "\n",
        "\n",
        "knn_search = NearestNeighbors(metric='cosine', algorithm='brute')\n",
        "knn_search.fit(df_p_feature_matrix)\n",
        "\n",
        "\n",
        "\n",
        "\n",
        "player_list = []\n",
        "rec_list = []\n",
        "\n",
        "# bug here when df_p_scaled.loc[player,:].values[0].reshape(1,-1) is called on the search\n",
        "\n",
        "# for player in df_p_scaled.index:\n",
        "#     distances, indices = knn_search.kneighbors(df_p_scaled.loc[player,:].values[0].reshape(-1,1), n_neighbors=11)\n",
        "\n",
        "#     for elem in range(0,len(distances.flatten())):\n",
        "#         if elem == 0:\n",
        "#             player_list.append(player)\n",
        "#         else:\n",
        "#             rec_list.append([player, elem, df_p_scaled.index[indices.flatten()[elem]],distances.flatten()[elem]])\n",
        "for player in range(len(df_p_scaled.index)):\n",
        "    distances, indices = knn_search.kneighbors(df_p_scaled.iloc[player].values.reshape(1,6), n_neighbors=11)\n",
        "\n",
        "    for elem in range(0,len(distances.flatten())):\n",
        "        if elem == 0:\n",
        "            player_list.append([df_p_scaled.index[player]])\n",
        "        else:\n",
        "            rec_list.append([df_p_scaled.index[player], elem, df_p_scaled.index[indices.flatten()[elem]],distances.flatten()[elem]])\n",
        "\n",
        "\n",
        "recommendation_df = pd.DataFrame(rec_list, columns=['search_player','rec_number','rec_player','distance_score'])"
      ],
      "metadata": {
        "id": "bjCiU0sc98o2"
      },
      "execution_count": 32,
      "outputs": []
    },
    {
      "cell_type": "code",
      "source": [
        "\n",
        "df_p_scaled.index[0]\n",
        "# df_p_scaled.loc['dennis rodman',:].values[0].reshape(6,1)"
      ],
      "metadata": {
        "id": "ohjaz9Rn_MbS"
      },
      "execution_count": null,
      "outputs": []
    },
    {
      "cell_type": "code",
      "source": [
        "recommendation_df[recommendation_df['search_player'] == 'dennis rodman'].loc[:10]"
      ],
      "metadata": {
        "id": "S2-C-M1OXFLK"
      },
      "execution_count": null,
      "outputs": []
    },
    {
      "cell_type": "code",
      "source": [],
      "metadata": {
        "id": "xShJJ_jukcaF"
      },
      "execution_count": null,
      "outputs": []
    }
  ]
}